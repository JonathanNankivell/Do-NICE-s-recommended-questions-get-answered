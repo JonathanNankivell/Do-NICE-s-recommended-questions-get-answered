{
 "cells": [
  {
   "cell_type": "markdown",
   "id": "37ac1d9c",
   "metadata": {},
   "source": [
    "# Do NICE's recommended questions get answered\n",
    "\n",
    "## Where did I get this data from?\n",
    "\n",
    "I went to these urls:\n",
    "- https://www.nice.org.uk/about/what-we-do/science-policy-research/research-recommendations\n",
    "- https://web.archive.org/web/20170716190227/https://www.nice.org.uk/about/what-we-do/science-policy-research/research-recommendations\n",
    "\n",
    "At each respective webpage, I selected everything and then pasted it into VSCode.\n",
    "\n",
    "Using VSCode I performed the following operations:\n",
    "1. Removed header and footer. I only wanted the relevant data.\n",
    "2. Removed the text that follows the tab character. These instances were found using the regex '\\t.*\\$'\n",
    "3. Removed the lines that didn't contain the regex '[a-zA-Z]\\*\\d\\*/\\d\\*'. These were found using the regex '^((?!^[a-zA-Z]\\*\\d\\*/\\d\\*).)\\*\\$\\n'\n",
    "\n",
    "The data was then as it is now."
   ]
  },
  {
   "cell_type": "code",
   "execution_count": 18,
   "id": "a4f0a9d1",
   "metadata": {},
   "outputs": [
    {
     "name": "stdout",
     "output_type": "stream",
     "text": [
      "1067\n",
      "2103\n"
     ]
    }
   ],
   "source": [
    "f = open(r\"C:\\Users\\nanki\\Documents\\Mountain Vault\\2017 list of recommended research projects(visual studio code version).md\", \"r\")\n",
    "list_2017 = f.read().split(\"\\n\")\n",
    "\n",
    "g = open(r\"C:\\Users\\nanki\\Documents\\Mountain Vault\\Current list of recommended research projects(visual studio code version).md\", \"r\")\n",
    "list_current = g.read().split(\"\\n\")\n",
    "\n",
    "print(len(set(list_2017)))\n",
    "print(len(set(list_current)))"
   ]
  },
  {
   "cell_type": "code",
   "execution_count": 17,
   "id": "cc9b507c",
   "metadata": {},
   "outputs": [
    {
     "name": "stdout",
     "output_type": "stream",
     "text": [
      "90\n",
      "977\n",
      "1126\n"
     ]
    }
   ],
   "source": [
    "left_orphans = list(set(list_2017) - set(list_current))\n",
    "overlap = list(set(list_2017) & set(list_current))\n",
    "right_orphans = list(set(list_current) - set(list_2017))\n",
    "print(len(left_orphans))\n",
    "print(len(overlap))\n",
    "print(len(right_orphans))"
   ]
  },
  {
   "cell_type": "markdown",
   "id": "0aee0f8c",
   "metadata": {},
   "source": [
    "Of the 1067 unique recommendations given in 2017, only 90 have been removed from the list for any reason. If we assume that all of them were removed because the approprate research was performed, then that still would suggest only 11.6 percent of the questions have been solved.\n",
    "\n",
    "Given that, of the five examples we have considered above, the two questions which NICE are no longer giving as part of their recommended research were removed having not been answered, it is reasonable to suspect the true rate of question answering is far below 11.6 percent."
   ]
  }
 ],
 "metadata": {
  "kernelspec": {
   "display_name": "Python 3",
   "language": "python",
   "name": "python3"
  },
  "language_info": {
   "codemirror_mode": {
    "name": "ipython",
    "version": 3
   },
   "file_extension": ".py",
   "mimetype": "text/x-python",
   "name": "python",
   "nbconvert_exporter": "python",
   "pygments_lexer": "ipython3",
   "version": "3.8.8"
  }
 },
 "nbformat": 4,
 "nbformat_minor": 5
}
