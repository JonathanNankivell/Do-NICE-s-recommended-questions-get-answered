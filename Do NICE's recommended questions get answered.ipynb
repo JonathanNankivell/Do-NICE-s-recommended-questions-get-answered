{
 "cells": [
  {
   "cell_type": "markdown",
   "id": "47766491",
   "metadata": {},
   "source": [
    "# Do NICE's recommended questions get answered\n",
    "\n",
    "## What is this about?\n",
    "\n",
    "In the comments of Experimental History, I made a bold claim:\n",
    "\n",
    "> > Meta-analyses come out all the time that are like, “Unfortunately, all of the studies that try to answer this important question are so bad that we can’t learn anything from them.” Instead of running another 500 piddling, confounded little studies, someone with guts, taste, and money could run the actually good study.\n",
    "> \n",
    "> The National Institute of Health and Care Excellence (NICE) is a UK body that determines clinical guidelines. When they publish their clinical guidelines, they also publish a list of research questions they would like to see prioritized. These questions are tightly focused on clinical relevance, they are well-defined and they are currently unanswered in the clinical literature.\n",
    "> \n",
    "> Every few years NICE reviews the clinical literature, checks if their recommended studies have been run and, normally, move on disappointed.\n",
    "> \n",
    "> It's not hard to design studies that answer NICE's research priorities. These studies wouldn't be unusually difficult to do. But somehow the studies which NICE claim would affect the clinical care they recommend UK hospitals provide do not get ran.\n",
    "\n",
    "Seeing as my acusation rests on an empirical question - how often do NICE's recommended questions actually get answered? - I thought it best to look into this rigorously.\n",
    "\n",
    "This repo is my quick attempt to get a sense of how often NICE's recommended questions have been answered.\n",
    "\n",
    "## Where did this data come from?\n",
    "\n",
    "I went to these urls:\n",
    "- https://www.nice.org.uk/about/what-we-do/science-policy-research/research-recommendations\n",
    "- https://web.archive.org/web/20170716190227/https://www.nice.org.uk/about/what-we-do/science-policy-research/research-recommendations\n",
    "\n",
    "At each respective webpage, I selected everything and then pasted it into VSCode.\n",
    "\n",
    "Using VSCode I performed the following operations:\n",
    "1. Removed preamble and postamble. I only wanted the relevant data.\n",
    "2. Removed the text that follows the tab character. These instances were found using the regex '\\t.*\\$'\n",
    "3. Removed the lines that didn't contain the regex '[a-zA-Z]\\*\\d\\*/\\d\\*'. These were found using the regex '^((?!^[a-zA-Z]\\*\\d\\*/\\d\\*).)\\*\\$\\n'\n",
    "\n",
    "The data was then as it is now."
   ]
  },
  {
   "cell_type": "code",
   "execution_count": 18,
   "id": "e3c7b072",
   "metadata": {},
   "outputs": [
    {
     "name": "stdout",
     "output_type": "stream",
     "text": [
      "1067\n",
      "2103\n"
     ]
    }
   ],
   "source": [
    "f = open(r\"2017 list of recommended research projects.md\", \"r\")\n",
    "list_2017 = f.read().split(\"\\n\")\n",
    "\n",
    "g = open(r\"\\Current list of recommended research projects.md\", \"r\")\n",
    "list_current = g.read().split(\"\\n\")\n",
    "\n",
    "print(len(set(list_2017)))\n",
    "print(len(set(list_current)))"
   ]
  },
  {
   "cell_type": "code",
   "execution_count": 17,
   "id": "d3df2322",
   "metadata": {},
   "outputs": [
    {
     "name": "stdout",
     "output_type": "stream",
     "text": [
      "90\n",
      "977\n",
      "1126\n"
     ]
    }
   ],
   "source": [
    "left_orphans = list(set(list_2017) - set(list_current))\n",
    "overlap = list(set(list_2017) & set(list_current))\n",
    "right_orphans = list(set(list_current) - set(list_2017))\n",
    "print(len(left_orphans))\n",
    "print(len(overlap))\n",
    "print(len(right_orphans))"
   ]
  },
  {
   "cell_type": "markdown",
   "id": "c9b6850f",
   "metadata": {},
   "source": [
    "Of the 1067 unique recommendations given in 2017, only 90 have been removed from the list for any reason. If we assume that all of them were removed because the approprate research was performed, then that still would suggest only 11.6 percent of the questions have been solved."
   ]
  }
 ],
 "metadata": {
  "kernelspec": {
   "display_name": "Python 3",
   "language": "python",
   "name": "python3"
  },
  "language_info": {
   "codemirror_mode": {
    "name": "ipython",
    "version": 3
   },
   "file_extension": ".py",
   "mimetype": "text/x-python",
   "name": "python",
   "nbconvert_exporter": "python",
   "pygments_lexer": "ipython3",
   "version": "3.8.8"
  }
 },
 "nbformat": 4,
 "nbformat_minor": 5
}
